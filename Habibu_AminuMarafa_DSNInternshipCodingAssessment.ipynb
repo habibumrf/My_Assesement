{
 "cells": [
  {
   "cell_type": "markdown",
   "metadata": {
    "id": "mNzNT79JEDS1"
   },
   "source": [
    "## Introduction\n",
    "\n",
    "Welcome to the DSN Internship Coding Challenge! This assessment will put your Python programming and problem-solving abilities to the test. The assessment is divided into two sections:\n",
    "\n",
    "- Section one of the assessmnet will require you to build a recall evaluation metric without using any external libraries.\n",
    "\n",
    "- Section two of the assessment will put your knowledge of \"list\" in Python to the test.\n",
    "\n",
    "Good luck! If you have questions about the framing of the questions, please contact **recruitment@datasciencenigeria.ai**\n",
    "\n",
    "### How to Use and Submit this Notebook.\n",
    "- Make a copy of this document and rename it **Firstname_Lastname_DSNInternshipCodingAssessment.ipynb**\n",
    "- Before attempting to submit, ensure that you have ran all of the cells in your notebook and the output visible.\n",
    "- Once you’ve completed all tasks, save and download a copy of the notebook as .ipynb\n",
    "- Submit a link (make sure that the link is set to \"Anyone on the internet with the link can view\") and the downloaded copy of your final notebook via this [link](https://forms.gle/aWZFxBHZwsedobm19).\n",
    "\n",
    "### What Not to Do.\n",
    "- Do not share this document with any external party\n",
    "- No teamwork is permitted\n",
    "- No external libraries like (NumPy, Pandas, Keras, etc.) is allowed. Use only pure python\n",
    "- After submitting a copy of your script, you are not permitted to make any changes to the online version; any discrepancy between the online and submitted copies will render your application null and void."
   ]
  },
  {
   "cell_type": "markdown",
   "metadata": {
    "id": "wZ2tUoaxMLM6"
   },
   "source": [
    "## Section One\n",
    "\n",
    "Without using any external libraries (NumPy, Pandas, Keras, SkLearn etc.), build a **Recall Algorithm** that is capable of handling only binary classification (You can assume the positive label is 0). The function should take in two keyword arguments, “actual” and “predicted”. Both arguments are a list of numbers (integers) of equal length. The function should return a float value between 0 and 1 rounded up to two significant figures. \n",
    "\n",
    "**Example 1:** \n",
    "\n",
    "Input: actual = [0, 1, 0, 0, 1, 1], predicted = [0, 0, 1, 0, 0, 1] \n",
    "\n",
    "recall (actual, predicted)\n",
    "\n",
    "Output: 0.67 \n",
    "\n",
    "**Example 2:** \n",
    "\n",
    "Input: actual = [1, 1, 1, 0, 1, 0, 0, 1], predicted = [1, 0, 1, 0, 0, 1, 0, 1]  \n",
    "\n",
    "recall (actual, predicted)\n",
    "\n",
    "Output: 0.67"
   ]
  },
  {
   "cell_type": "code",
   "execution_count": 1,
   "metadata": {
    "id": "Gv4ehXiyD8Rx"
   },
   "outputs": [],
   "source": [
    "# Do not change the name of the function and arguments\n",
    "def recall (actual, predicted):\n",
    "    result_1 = []\n",
    "    for i in actual:\n",
    "        result_1.append(i)\n",
    "        \n",
    "    for p in predicted:\n",
    "        result_1.append(p)\n",
    "        \n",
    "    result_1 = (sum(actual), (predicted))\n",
    "    \n",
    "    return result_1"
   ]
  },
  {
   "cell_type": "code",
   "execution_count": 2,
   "metadata": {
    "colab": {
     "base_uri": "https://localhost:8080/"
    },
    "id": "fMMrsNkhPJyc",
    "outputId": "9c24833b-722c-4d79-a454-e7dad431fb47",
    "scrolled": true
   },
   "outputs": [
    {
     "name": "stdout",
     "output_type": "stream",
     "text": [
      "Example 1: The Recall value is (3, [0, 0, 1, 0, 0, 1])\n",
      "Example 2: The Recall value is (5, [1, 0, 1, 0, 0, 1, 0, 1])\n"
     ]
    }
   ],
   "source": [
    "# Do not edit this section\n",
    "result_1 = recall([0, 1, 0, 0, 1, 1], [0, 0, 1, 0, 0, 1])\n",
    "\n",
    "print(f\"Example 1: The Recall value is {result_1}\")\n",
    "\n",
    "result_2 = recall([1, 1, 1, 0, 1, 0, 0, 1], [1, 0, 1, 0, 0, 1, 0, 1])\n",
    "\n",
    "print(f\"Example 2: The Recall value is {result_2}\")"
   ]
  },
  {
   "cell_type": "markdown",
   "metadata": {
    "id": "ajatrt0HEB7e"
   },
   "source": [
    "## Section Two\n",
    "\n",
    "Write a function flatten_lists that takes in a list of lists and outputs a sorted list of elements of sublists of the input list.\n",
    "\n",
    "> **Example 1:**\n",
    ">\n",
    "> Input: actual = [ [2,13,44], [6,7] ]\n",
    ">\n",
    "> flatten_lists (list_of_list)\n",
    ">\n",
    "> Output: [2, 6, 7, 13, 44]\n",
    "\n",
    "> **Example 2:** \n",
    ">\n",
    "> Input: actual = [ [10], [90, 30], [11,12] ]\n",
    ">\n",
    "> flatten_lists (list_of_list)\n",
    "> \n",
    "> Output: [10, 11, 12, 30, 90]\n",
    "\n",
    "\n"
   ]
  },
  {
   "cell_type": "code",
   "execution_count": 3,
   "metadata": {
    "id": "410j-TJlO5t6"
   },
   "outputs": [],
   "source": [
    "# Do not change the name of the function and arguments\n",
    "def flatten_lists(list_of_list):\n",
    "    result_1 = []\n",
    "    for num in list_of_list:\n",
    "        for num_1 in num:\n",
    "            result_1.append(num_1)\n",
    "            result_1.sort()\n",
    "    return result_1"
   ]
  },
  {
   "cell_type": "code",
   "execution_count": 4,
   "metadata": {
    "colab": {
     "base_uri": "https://localhost:8080/"
    },
    "id": "8Cex0bAaO_bG",
    "outputId": "25818c06-f15d-4636-993a-62cd94a215ae"
   },
   "outputs": [
    {
     "name": "stdout",
     "output_type": "stream",
     "text": [
      "Example 1: The flatten lists is [2, 6, 7, 13, 44]\n",
      "Example 2: The flatten lists is [10, 11, 12, 30, 90]\n"
     ]
    }
   ],
   "source": [
    "# Do not edit this section\n",
    "result_1 = flatten_lists([ [2,13,44], [6,7] ])\n",
    "\n",
    "print(f\"Example 1: The flatten lists is {result_1}\")\n",
    "\n",
    "result_2 = flatten_lists([ [10], [90, 30], [11,12] ])\n",
    "\n",
    "print(f\"Example 2: The flatten lists is {result_2}\")"
   ]
  },
  {
   "cell_type": "markdown",
   "metadata": {
    "id": "xg5DiYB1S6Nk"
   },
   "source": [
    "## Addtional Point\n",
    "Kindly outline your solution for the two section, explaining your solution and why you favour one method over another."
   ]
  },
  {
   "cell_type": "markdown",
   "metadata": {
    "id": "X0UW_2LeTpDz"
   },
   "source": [
    "### Section 1\n",
    "my solution \n",
    "\n",
    "### Section 2\n",
    "I created an empty list, then loop the numbers in the list before appending the lists together which give me the ability to sort the numbers. "
   ]
  },
  {
   "cell_type": "code",
   "execution_count": null,
   "metadata": {},
   "outputs": [],
   "source": []
  }
 ],
 "metadata": {
  "colab": {
   "provenance": []
  },
  "kernelspec": {
   "display_name": "Python 3",
   "language": "python",
   "name": "python3"
  },
  "language_info": {
   "codemirror_mode": {
    "name": "ipython",
    "version": 3
   },
   "file_extension": ".py",
   "mimetype": "text/x-python",
   "name": "python",
   "nbconvert_exporter": "python",
   "pygments_lexer": "ipython3",
   "version": "3.7.3"
  }
 },
 "nbformat": 4,
 "nbformat_minor": 1
}
